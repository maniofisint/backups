{
 "metadata": {
  "language_info": {
   "codemirror_mode": {
    "name": "ipython",
    "version": 3
   },
   "file_extension": ".py",
   "mimetype": "text/x-python",
   "name": "python",
   "nbconvert_exporter": "python",
   "pygments_lexer": "ipython3",
   "version": "3.6.9-final"
  },
  "orig_nbformat": 2,
  "kernelspec": {
   "name": "python36964bit29657de0ad7f494984a76e46bbf7d3b3",
   "display_name": "Python 3.6.9 64-bit",
   "language": "python"
  }
 },
 "nbformat": 4,
 "nbformat_minor": 2,
 "cells": [
  {
   "cell_type": "code",
   "execution_count": 18,
   "metadata": {},
   "outputs": [],
   "source": [
    "import pydot\n",
    "from IPython.display import Image, display"
   ]
  },
  {
   "cell_type": "code",
   "execution_count": 20,
   "metadata": {},
   "outputs": [],
   "source": [
    "class tree:\n",
    "    class Node:\n",
    "        def __init__(self, parent=None, is_leaf=False, element=None):\n",
    "            self.parent = parent\n",
    "            self.children = []\n",
    "            self.is_leaf = is_leaf\n",
    "            self.element = element\n",
    "\n",
    "    def __init__(self):\n",
    "        self.root = None\n",
    "        self.graph = pydot.Dot(graph_type='graph', strict=True)\n",
    "        self.size = 0\n",
    "\n",
    "    def _make_tree(self, input, prnt=None):\n",
    "        if not isinstance(input, tuple):\n",
    "            u = pydot.Node(name=str(self.size), label=str(input), shape='plain')\n",
    "            self.graph.add_node(u)\n",
    "            self.size += 1\n",
    "            self.graph.add_node(u)\n",
    "            new_node = self.Node(parent=prnt, is_leaf=True, element=input)\n",
    "            return new_node, u\n",
    "\n",
    "        parent = self.Node(parent=prnt)\n",
    "        string = 'Node' \n",
    "        u = pydot.Node(name=str(self.size), label=' ', shape='point')\n",
    "        self.graph.add_node(u)\n",
    "        self.size += 1\n",
    "        for i in input:\n",
    "            node, v = self._make_tree(i, parent)\n",
    "            parent.children.append(node)\n",
    "            self.graph.add_edge(pydot.Edge(u, v))\n",
    "\n",
    "        return parent, u\n",
    "\n",
    "\n",
    "    def make_tree(self, input):\n",
    "        self.root, _ = self._make_tree(input)\n",
    "\n",
    "    def write_graph(self):\n",
    "        print(\"the given tree:\")\n",
    "        im = Image(self.graph.create_png())\n",
    "        display(im)\n",
    "\n",
    "    def to_string(self, p:Node):\n",
    "        if p.is_leaf:\n",
    "            return str(p.element)\n",
    "        out = '('\n",
    "        for i in p.children:\n",
    "            out += self.to_string(i) + ','\n",
    "        \n",
    "        return out[:-1] + ')'\n",
    "\n",
    "    def iteration(self, address:tuple):\n",
    "        p = self.root\n",
    "        for i in address:\n",
    "            p = p.children[i]\n",
    "        return p\n",
    "\n",
    "    def reference(self, ref):\n",
    "        p = self.iteration(ref)\n",
    "        return self.to_string(p)\n",
    "\n"
   ]
  },
  {
   "cell_type": "code",
   "execution_count": 21,
   "metadata": {},
   "outputs": [
    {
     "output_type": "stream",
     "name": "stdout",
     "text": [
      "the given tree:\n"
     ]
    },
    {
     "output_type": "display_data",
     "data": {
      "image/png": "[encoded data removed]",
      "text/plain": "<IPython.core.display.Image object>"
     },
     "metadata": {}
    },
    {
     "output_type": "stream",
     "name": "stdout",
     "text": [
      "6\n((1,2),3)\n"
     ]
    }
   ],
   "source": [
    "t = tree()\n",
    "tup = (((1, 2), 3), (4, (5, 6)), 7, (8, 9, 10))\n",
    "t.make_tree(tup)\n",
    "t.write_graph()\n",
    "\n",
    "Tup = (1,1,1)\n",
    "print(t.reference(Tup))\n",
    "Tup = (0,)\n",
    "print(t.reference(Tup))"
   ]
  },
  {
   "cell_type": "code",
   "execution_count": null,
   "metadata": {},
   "outputs": [],
   "source": []
  }
 ]
}